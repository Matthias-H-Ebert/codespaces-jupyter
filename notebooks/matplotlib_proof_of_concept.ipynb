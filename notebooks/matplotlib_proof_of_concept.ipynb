{
 "cells": [
  {
   "cell_type": "markdown",
   "id": "a1d89286",
   "metadata": {},
   "source": [
    "# Matplotlib - PyPlot\n",
    "## Proof of Concept  - Matthias Ebert, DuP 2022"
   ]
  },
  {
   "cell_type": "code",
   "execution_count": 1,
   "id": "ebc936ac",
   "metadata": {},
   "outputs": [],
   "source": [
    "#matplotlib\n",
    "import matplotlib.pyplot as plt"
   ]
  },
  {
   "cell_type": "markdown",
   "id": "7a461521",
   "metadata": {},
   "source": [
    "### Zeiche Punkte"
   ]
  },
  {
   "cell_type": "code",
   "execution_count": 2,
   "id": "e6c2cf67",
   "metadata": {},
   "outputs": [
    {
     "data": {
      "text/plain": [
       "<matplotlib.collections.PathCollection at 0x287d5aedbb0>"
      ]
     },
     "execution_count": 2,
     "metadata": {},
     "output_type": "execute_result"
    },
    {
     "data": {
      "image/png": "[encoded data removed]",
      "text/plain": [
       "<Figure size 640x480 with 1 Axes>"
      ]
     },
     "metadata": {},
     "output_type": "display_data"
    }
   ],
   "source": [
    "x1 = [5,10,15]\n",
    "y1 = [7,8,14]\n",
    "plt.title(\"Zeichne Punkte\")\n",
    "plt.scatter(x1,y1)"
   ]
  },
  {
   "cell_type": "markdown",
   "id": "4bab8702",
   "metadata": {},
   "source": [
    "### Zeiche Linien"
   ]
  },
  {
   "cell_type": "code",
   "execution_count": null,
   "id": "01185855",
   "metadata": {},
   "outputs": [],
   "source": [
    "x1 = [5,10,15]\n",
    "y1 = [7,8,14]\n",
    "plt.title(\"Zeichne Linien\")\n",
    "plt.plot(x1,y1)"
   ]
  },
  {
   "cell_type": "markdown",
   "id": "0a8eb180",
   "metadata": {},
   "source": [
    "### Zeichne Bargraph"
   ]
  },
  {
   "cell_type": "code",
   "execution_count": null,
   "id": "84d08989",
   "metadata": {},
   "outputs": [],
   "source": [
    "x1 = [5,10,15]\n",
    "y1 = [7,8,14]\n",
    "plt.title(\"Zeichne Bargraph\")\n",
    "plt.bar(x1,y1)"
   ]
  },
  {
   "cell_type": "markdown",
   "id": "ff4854bf",
   "metadata": {},
   "source": [
    "### Zeichne Kuchendiagramm"
   ]
  },
  {
   "cell_type": "code",
   "execution_count": null,
   "id": "511ddca9",
   "metadata": {},
   "outputs": [],
   "source": [
    "x1 = [5,10,15]\n",
    "y1 = [\"Eins\",\"Zwei\", \"Drei\"]\n",
    "plt.title(\"Zeichne Piechart\")\n",
    "plt.pie(x1,labels=y1)"
   ]
  },
  {
   "cell_type": "code",
   "execution_count": null,
   "id": "af80be2c",
   "metadata": {},
   "outputs": [],
   "source": []
  }
 ],
 "metadata": {
  "kernelspec": {
   "display_name": "Python 3 (ipykernel)",
   "language": "python",
   "name": "python3"
  },
  "language_info": {
   "codemirror_mode": {
    "name": "ipython",
    "version": 3
   },
   "file_extension": ".py",
   "mimetype": "text/x-python",
   "name": "python",
   "nbconvert_exporter": "python",
   "pygments_lexer": "ipython3",
   "version": "3.9.12"
  }
 },
 "nbformat": 4,
 "nbformat_minor": 5
}
