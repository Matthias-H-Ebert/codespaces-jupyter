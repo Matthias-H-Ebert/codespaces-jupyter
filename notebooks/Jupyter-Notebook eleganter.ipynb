{
 "cells": [
  {
   "cell_type": "markdown",
   "id": "61ed5941",
   "metadata": {},
   "source": [
    "# Jupyter Notebook has two different keyboard input modes. \n",
    "\n",
    "\n",
    "\n",
    "### Run\n",
    "- **Shift-Enter** : run cell\n",
    "- **Ctrl-Enter** : run all selected cells\n",
    "- **Alt-Enter** : run cell and insert new cell below"
   ]
  },
  {
   "cell_type": "markdown",
   "id": "847e353b",
   "metadata": {},
   "source": [
    "Edit Mode GREEN (press Enter to enable)\n",
    "-----------------------------------------------------------\n",
    "allows you to type code or text into a cell\n",
    "\n",
    "### Hilfe\n",
    "- **Tab** : code completion or indent\n",
    "- **Shift-Tab** : tooltip\n",
    "- **help(python-commando)**\n",
    "\n",
    "### Undo\n",
    "- **Ctrl-Z** : undo\n",
    "- **Ctrl-Y** : redo\n",
    "- **Ctrl-A** : select all"
   ]
  },
  {
   "cell_type": "markdown",
   "id": "0595301f",
   "metadata": {},
   "source": [
    "## Split Cells\n",
    "- **Ctrl-Shift-Minus** : split cell at cursor(s)"
   ]
  },
  {
   "cell_type": "markdown",
   "id": "94b07d93",
   "metadata": {},
   "source": [
    "BLUE Command Mode (press Esc to enable)\n",
    "--------------------------------------------------------------\n",
    "binds the keyboard to notebook level commands\n",
    "\n",
    "### Hilfe\n",
    "- **Ctrl-Shift-F** : open the command help\n",
    "\n",
    "### Reset\n",
    "- **00** : restart the kernel (with dialog)\n",
    "\n",
    "### Insert\n",
    "- **A** : insert cell above\n",
    "- **B** : insert cell below\n",
    "\n",
    "### Change\n",
    "- **Y** : change cell to code\n",
    "- **M** : change cell to markdown\n",
    "- **R** : change cell to raw\n",
    "- **1..6** : change cell to heading 1..6\n",
    "- **F** : find and replace\n",
    "\n",
    "### Select\n",
    "- **Up** : select cell above\n",
    "- **Down** : select cell below\n",
    "- **Ctrl-A** : select all cells\n",
    "\n",
    "### Copy-Paste\n",
    "- **X** : cut selected cells\n",
    "- **C** : copy selected cells\n",
    "- **V** : paste cells below\n",
    "\n",
    "### Delete\n",
    "- **DD** : delete selected cells\n",
    "- **Z** : undo cell deletion\n",
    "\n",
    "### Scroll\n",
    "- **Space** : scroll notebook down\n",
    "- **Shift-Space** : scroll notebook up\n",
    "- **O** : toggle output of selected cells\n",
    "\n",
    "### Merge\n",
    "- **Shift-M** : merge selected cells, or current cell with cell below if only one cell is selected"
   ]
  }
 ],
 "metadata": {
  "kernelspec": {
   "display_name": "Python 3 (ipykernel)",
   "language": "python",
   "name": "python3"
  },
  "language_info": {
   "codemirror_mode": {
    "name": "ipython",
    "version": 3
   },
   "file_extension": ".py",
   "mimetype": "text/x-python",
   "name": "python",
   "nbconvert_exporter": "python",
   "pygments_lexer": "ipython3",
   "version": "3.9.12"
  }
 },
 "nbformat": 4,
 "nbformat_minor": 5
}
