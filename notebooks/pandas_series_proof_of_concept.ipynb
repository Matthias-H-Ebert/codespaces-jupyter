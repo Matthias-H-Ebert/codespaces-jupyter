{
 "cells": [
  {
   "cell_type": "markdown",
   "id": "0764921c",
   "metadata": {},
   "source": [
    "# Series in Pandas\n",
    "## Serien sind wie Spalten einer Tabelle\n",
    "Mit starke Zuordnungsmöglichkeiten über Index: Die Daten werden damit eindeutig zugeordnet, auch wenn man zwei Series addiert!"
   ]
  },
  {
   "cell_type": "code",
   "execution_count": 3,
   "id": "ec2b4301",
   "metadata": {},
   "outputs": [
    {
     "data": {
      "text/plain": [
       "[4, 7, -5, 3]"
      ]
     },
     "execution_count": 3,
     "metadata": {},
     "output_type": "execute_result"
    }
   ],
   "source": [
    "a1 = [4, 7, -5, 3]\n",
    "a1"
   ]
  },
  {
   "cell_type": "code",
   "execution_count": 1,
   "id": "e163c280",
   "metadata": {},
   "outputs": [],
   "source": [
    "import pandas as pd\n",
    "from pandas import Series"
   ]
  },
  {
   "cell_type": "code",
   "execution_count": 4,
   "id": "3c8141e2",
   "metadata": {},
   "outputs": [
    {
     "data": {
      "text/plain": [
       "0    4\n",
       "1    7\n",
       "2   -5\n",
       "3    3\n",
       "Name: Test, dtype: int64"
      ]
     },
     "execution_count": 4,
     "metadata": {},
     "output_type": "execute_result"
    }
   ],
   "source": [
    "s1 = Series(a1, name=\"Test\")\n",
    "s1"
   ]
  },
  {
   "cell_type": "code",
   "execution_count": 4,
   "id": "98915e51",
   "metadata": {},
   "outputs": [
    {
     "data": {
      "text/plain": [
       "array([ 4,  7, -5,  3], dtype=int64)"
      ]
     },
     "execution_count": 4,
     "metadata": {},
     "output_type": "execute_result"
    }
   ],
   "source": [
    "s1.values"
   ]
  },
  {
   "cell_type": "code",
   "execution_count": 5,
   "id": "2a8f4854",
   "metadata": {},
   "outputs": [
    {
     "data": {
      "text/plain": [
       "RangeIndex(start=0, stop=4, step=1)"
      ]
     },
     "execution_count": 5,
     "metadata": {},
     "output_type": "execute_result"
    }
   ],
   "source": [
    "s1.index"
   ]
  },
  {
   "cell_type": "markdown",
   "id": "710eb4bf",
   "metadata": {},
   "source": [
    "## ...aber mit zusätzlichen Fähigkeiten \n",
    "... z.B. bei der Benennung "
   ]
  },
  {
   "cell_type": "code",
   "execution_count": 6,
   "id": "00755beb",
   "metadata": {},
   "outputs": [],
   "source": [
    "s1.name = \"Temperatur\""
   ]
  },
  {
   "cell_type": "code",
   "execution_count": 7,
   "id": "cf95f6e2",
   "metadata": {},
   "outputs": [
    {
     "data": {
      "text/plain": [
       "Nürnberg     4\n",
       "Fürth        7\n",
       "Erlangen    -5\n",
       "Schwabach    3\n",
       "Name: Temperatur, dtype: int64"
      ]
     },
     "execution_count": 7,
     "metadata": {},
     "output_type": "execute_result"
    }
   ],
   "source": [
    "s1.index = ['Nürnberg', 'Fürth', 'Erlangen', 'Schwabach']\n",
    "s1"
   ]
  },
  {
   "cell_type": "code",
   "execution_count": 8,
   "id": "f70c23d0",
   "metadata": {},
   "outputs": [],
   "source": [
    "s1.index.name = 'Stadt'"
   ]
  },
  {
   "cell_type": "code",
   "execution_count": 9,
   "id": "fc1d06da",
   "metadata": {},
   "outputs": [
    {
     "data": {
      "text/plain": [
       "Index(['Nürnberg', 'Fürth', 'Erlangen', 'Schwabach'], dtype='object', name='Stadt')"
      ]
     },
     "execution_count": 9,
     "metadata": {},
     "output_type": "execute_result"
    }
   ],
   "source": [
    "s1.index"
   ]
  },
  {
   "cell_type": "markdown",
   "id": "a537d411",
   "metadata": {},
   "source": [
    "## So geht es auch"
   ]
  },
  {
   "cell_type": "code",
   "execution_count": 10,
   "id": "b77e8b66",
   "metadata": {},
   "outputs": [
    {
     "data": {
      "text/plain": [
       "so      4\n",
       "geht    7\n",
       "es     -5\n",
       "auch    3\n",
       "Name: Temperaturtabelle, dtype: int64"
      ]
     },
     "execution_count": 10,
     "metadata": {},
     "output_type": "execute_result"
    }
   ],
   "source": [
    "index = ['so', 'geht', 'es', 'auch']\n",
    "s2 = Series( a1, index=index, name='Temperaturtabelle')\n",
    "s2"
   ]
  },
  {
   "cell_type": "markdown",
   "id": "a9392302",
   "metadata": {},
   "source": [
    "Index und Values müssen dabei von der Anzahl her zusammenpassen"
   ]
  },
  {
   "cell_type": "code",
   "execution_count": 11,
   "id": "be2ca88e",
   "metadata": {},
   "outputs": [
    {
     "data": {
      "text/plain": [
       "[4, 7, -5, 3]"
      ]
     },
     "execution_count": 11,
     "metadata": {},
     "output_type": "execute_result"
    }
   ],
   "source": [
    "list(s2.values)"
   ]
  },
  {
   "cell_type": "code",
   "execution_count": 12,
   "id": "a89af3ee",
   "metadata": {},
   "outputs": [
    {
     "data": {
      "text/plain": [
       "['so', 'geht', 'es', 'auch']"
      ]
     },
     "execution_count": 12,
     "metadata": {},
     "output_type": "execute_result"
    }
   ],
   "source": [
    "list(s2.index)"
   ]
  },
  {
   "cell_type": "code",
   "execution_count": 13,
   "id": "4fc02de2",
   "metadata": {},
   "outputs": [
    {
     "data": {
      "text/plain": [
       "'Temperaturtabelle'"
      ]
     },
     "execution_count": 13,
     "metadata": {},
     "output_type": "execute_result"
    }
   ],
   "source": [
    "s2.name"
   ]
  },
  {
   "cell_type": "markdown",
   "id": "d6014cf3",
   "metadata": {},
   "source": [
    "## Lesen, Überschreiben und Anfügen von Objekten"
   ]
  },
  {
   "cell_type": "code",
   "execution_count": 14,
   "id": "89f18c5a",
   "metadata": {},
   "outputs": [
    {
     "name": "stdout",
     "output_type": "stream",
     "text": [
      "4 -5\n"
     ]
    }
   ],
   "source": [
    "print(s2[0], s2['es'])"
   ]
  },
  {
   "cell_type": "code",
   "execution_count": 15,
   "id": "c9398276",
   "metadata": {},
   "outputs": [
    {
     "data": {
      "text/plain": [
       "4"
      ]
     },
     "execution_count": 15,
     "metadata": {},
     "output_type": "execute_result"
    }
   ],
   "source": [
    "len(s2)"
   ]
  },
  {
   "cell_type": "code",
   "execution_count": 16,
   "id": "da752688",
   "metadata": {
    "scrolled": true
   },
   "outputs": [
    {
     "data": {
      "text/plain": [
       "so         -99\n",
       "geht         7\n",
       "es          -5\n",
       "auch         3\n",
       "richtig   -100\n",
       "Name: Temperaturtabelle, dtype: int64"
      ]
     },
     "execution_count": 16,
     "metadata": {},
     "output_type": "execute_result"
    }
   ],
   "source": [
    "s2[0] = -99; s2['richtig'] = -100; s2"
   ]
  },
  {
   "cell_type": "code",
   "execution_count": 17,
   "id": "45b6654a",
   "metadata": {},
   "outputs": [
    {
     "data": {
      "text/plain": [
       "5"
      ]
     },
     "execution_count": 17,
     "metadata": {},
     "output_type": "execute_result"
    }
   ],
   "source": [
    "len(s2)"
   ]
  },
  {
   "cell_type": "markdown",
   "id": "ea55c8bf",
   "metadata": {},
   "source": [
    "## auf bestimmte Labels zugreifen"
   ]
  },
  {
   "cell_type": "code",
   "execution_count": 18,
   "id": "6d6fbf2b",
   "metadata": {},
   "outputs": [
    {
     "name": "stdout",
     "output_type": "stream",
     "text": [
      "so     -99\n",
      "auch     3\n",
      "Name: Temperaturtabelle, dtype: int64\n"
     ]
    }
   ],
   "source": [
    "s3 = s2[['so','auch']]; print(s3)"
   ]
  },
  {
   "cell_type": "code",
   "execution_count": 19,
   "id": "afe17f6e",
   "metadata": {},
   "outputs": [
    {
     "data": {
      "text/plain": [
       "so         False\n",
       "geht        True\n",
       "es         False\n",
       "auch        True\n",
       "richtig    False\n",
       "Name: Temperaturtabelle, dtype: bool"
      ]
     },
     "execution_count": 19,
     "metadata": {},
     "output_type": "execute_result"
    }
   ],
   "source": [
    "s2>0"
   ]
  },
  {
   "cell_type": "code",
   "execution_count": 20,
   "id": "cfa81b5b",
   "metadata": {},
   "outputs": [
    {
     "data": {
      "text/plain": [
       "geht    7\n",
       "auch    3\n",
       "Name: Temperaturtabelle, dtype: int64"
      ]
     },
     "execution_count": 20,
     "metadata": {},
     "output_type": "execute_result"
    }
   ],
   "source": [
    "s2[ s2>0 ]"
   ]
  },
  {
   "cell_type": "code",
   "execution_count": 21,
   "id": "ff0677e4",
   "metadata": {},
   "outputs": [
    {
     "data": {
      "text/plain": [
       "geht    4\n",
       "auch    0\n",
       "Name: Temperaturtabelle, dtype: int64"
      ]
     },
     "execution_count": 21,
     "metadata": {},
     "output_type": "execute_result"
    }
   ],
   "source": [
    "s2[ s2>0 ] - 3"
   ]
  },
  {
   "cell_type": "markdown",
   "id": "dd65b9a7",
   "metadata": {},
   "source": [
    "z.B. prüfen, ob ein bestimmter Index enthalten ist"
   ]
  },
  {
   "cell_type": "code",
   "execution_count": 22,
   "id": "de928c33",
   "metadata": {},
   "outputs": [
    {
     "data": {
      "text/plain": [
       "True"
      ]
     },
     "execution_count": 22,
     "metadata": {},
     "output_type": "execute_result"
    }
   ],
   "source": [
    "'geht' in s2"
   ]
  },
  {
   "cell_type": "code",
   "execution_count": 23,
   "id": "9baa489a",
   "metadata": {},
   "outputs": [
    {
     "data": {
      "text/plain": [
       "False"
      ]
     },
     "execution_count": 23,
     "metadata": {},
     "output_type": "execute_result"
    }
   ],
   "source": [
    "'Geht' in s2"
   ]
  },
  {
   "cell_type": "markdown",
   "id": "afdb8e6f",
   "metadata": {},
   "source": [
    "## Dictionaries und Series hin und zurück"
   ]
  },
  {
   "cell_type": "code",
   "execution_count": 24,
   "id": "76fdaf1e",
   "metadata": {},
   "outputs": [
    {
     "data": {
      "text/plain": [
       "{'Hans': 32, 'Anna': 15, 'Sepp': 88}"
      ]
     },
     "execution_count": 24,
     "metadata": {},
     "output_type": "execute_result"
    }
   ],
   "source": [
    "d1 = { 'Hans': 32, 'Anna': 15, 'Sepp': 88 }; d1"
   ]
  },
  {
   "cell_type": "code",
   "execution_count": 25,
   "id": "55f5e6e1",
   "metadata": {},
   "outputs": [
    {
     "data": {
      "text/plain": [
       "Hans    32\n",
       "Anna    15\n",
       "Sepp    88\n",
       "dtype: int64"
      ]
     },
     "execution_count": 25,
     "metadata": {},
     "output_type": "execute_result"
    }
   ],
   "source": [
    "s3 = Series(d1); s3"
   ]
  },
  {
   "cell_type": "code",
   "execution_count": 26,
   "id": "67c6ce3c",
   "metadata": {},
   "outputs": [
    {
     "data": {
      "text/plain": [
       "{'Hans': 32, 'Anna': 15, 'Sepp': 88}"
      ]
     },
     "execution_count": 26,
     "metadata": {},
     "output_type": "execute_result"
    }
   ],
   "source": [
    "d2 = dict(s3); d2"
   ]
  },
  {
   "cell_type": "markdown",
   "id": "53c75386",
   "metadata": {},
   "source": [
    "## Datentypwechsel "
   ]
  },
  {
   "cell_type": "code",
   "execution_count": 27,
   "id": "25970cff",
   "metadata": {},
   "outputs": [
    {
     "data": {
      "text/plain": [
       "Hans    32.0\n",
       "Anna    15.0\n",
       "Sepp    88.0\n",
       "dtype: float64"
      ]
     },
     "execution_count": 27,
     "metadata": {},
     "output_type": "execute_result"
    }
   ],
   "source": [
    "s3 = Series(s3, dtype='float64'); s3"
   ]
  },
  {
   "cell_type": "code",
   "execution_count": 28,
   "id": "43132734",
   "metadata": {},
   "outputs": [
    {
     "data": {
      "text/plain": [
       "Hans    32\n",
       "Anna    15\n",
       "Sepp    88\n",
       "dtype: int64"
      ]
     },
     "execution_count": 28,
     "metadata": {},
     "output_type": "execute_result"
    }
   ],
   "source": [
    "s3 = Series(s3, dtype='int64'); s3"
   ]
  },
  {
   "cell_type": "markdown",
   "id": "c1e48672",
   "metadata": {},
   "source": [
    "## Neue Serien zusammenstellen"
   ]
  },
  {
   "cell_type": "code",
   "execution_count": 29,
   "id": "124e958e",
   "metadata": {},
   "outputs": [
    {
     "data": {
      "text/plain": [
       "Hans     32.0\n",
       "Sepp     88.0\n",
       "Willy     NaN\n",
       "dtype: float64"
      ]
     },
     "execution_count": 29,
     "metadata": {},
     "output_type": "execute_result"
    }
   ],
   "source": [
    "auswahl = [ 'Hans', 'Sepp', \"Willy\"]\n",
    "s4 = Series(s3, index=auswahl); s4"
   ]
  },
  {
   "cell_type": "markdown",
   "id": "fb546aec",
   "metadata": {},
   "source": [
    "Anmerkung: NaN = Not a Number (sowas gibts leider nicht beim Datentyp Integer)"
   ]
  },
  {
   "cell_type": "code",
   "execution_count": 30,
   "id": "d14999a5",
   "metadata": {
    "scrolled": true
   },
   "outputs": [
    {
     "data": {
      "text/plain": [
       "Hans      True\n",
       "Sepp      True\n",
       "Willy    False\n",
       "dtype: bool"
      ]
     },
     "execution_count": 30,
     "metadata": {},
     "output_type": "execute_result"
    }
   ],
   "source": [
    "s4.notnull()"
   ]
  },
  {
   "cell_type": "code",
   "execution_count": 31,
   "id": "74650457",
   "metadata": {},
   "outputs": [
    {
     "data": {
      "text/plain": [
       "Hans     False\n",
       "Sepp     False\n",
       "Willy     True\n",
       "dtype: bool"
      ]
     },
     "execution_count": 31,
     "metadata": {},
     "output_type": "execute_result"
    }
   ],
   "source": [
    "s4.isnull()"
   ]
  },
  {
   "cell_type": "markdown",
   "id": "00d390c4",
   "metadata": {},
   "source": [
    "## Rechnen mit Serien ... bringt immer Ergebnisse vom Typ float\n",
    "z.B. + - * / oder add(), sub(), mul(), div() ... das können Python-Dictionarys nicht ;)"
   ]
  },
  {
   "cell_type": "code",
   "execution_count": 32,
   "id": "fb5a2600",
   "metadata": {},
   "outputs": [
    {
     "data": {
      "text/plain": [
       "Hans      2.0\n",
       "Sepp     58.0\n",
       "Willy     NaN\n",
       "dtype: float64"
      ]
     },
     "execution_count": 32,
     "metadata": {},
     "output_type": "execute_result"
    }
   ],
   "source": [
    "s4 - 30"
   ]
  },
  {
   "cell_type": "code",
   "execution_count": 33,
   "id": "334423ac",
   "metadata": {},
   "outputs": [
    {
     "data": {
      "text/plain": [
       "Anna       NaN\n",
       "Hans      64.0\n",
       "Sepp     176.0\n",
       "Willy      NaN\n",
       "dtype: float64"
      ]
     },
     "execution_count": 33,
     "metadata": {},
     "output_type": "execute_result"
    }
   ],
   "source": [
    "s4 + s3"
   ]
  },
  {
   "cell_type": "markdown",
   "id": "79d1d280",
   "metadata": {},
   "source": [
    "Grenze der Berechenbarkeit: Rechnen mit NaN gibt NaN (= Not a Number)"
   ]
  },
  {
   "cell_type": "code",
   "execution_count": 34,
   "id": "2f77a4f8",
   "metadata": {},
   "outputs": [
    {
     "data": {
      "text/plain": [
       "Erlangen    NaN\n",
       "Fürth       NaN\n",
       "Hans        NaN\n",
       "Nürnberg    NaN\n",
       "Schwabach   NaN\n",
       "Sepp        NaN\n",
       "Willy       NaN\n",
       "dtype: float64"
      ]
     },
     "execution_count": 34,
     "metadata": {},
     "output_type": "execute_result"
    }
   ],
   "source": [
    "s5 = s4 + s1; s5"
   ]
  },
  {
   "cell_type": "markdown",
   "id": "34416755",
   "metadata": {},
   "source": [
    "Das bewirkt einen Join (bei dem keiner der Werte berechenbar war)"
   ]
  },
  {
   "cell_type": "code",
   "execution_count": 35,
   "id": "df13f7e1",
   "metadata": {},
   "outputs": [
    {
     "data": {
      "text/plain": [
       "['Erlangen', 'Fürth', 'Hans', 'Nürnberg', 'Schwabach', 'Sepp', 'Willy']"
      ]
     },
     "execution_count": 35,
     "metadata": {},
     "output_type": "execute_result"
    }
   ],
   "source": [
    "list(s5.index)"
   ]
  }
 ],
 "metadata": {
  "kernelspec": {
   "display_name": "Python 3 (ipykernel)",
   "language": "python",
   "name": "python3"
  },
  "language_info": {
   "codemirror_mode": {
    "name": "ipython",
    "version": 3
   },
   "file_extension": ".py",
   "mimetype": "text/x-python",
   "name": "python",
   "nbconvert_exporter": "python",
   "pygments_lexer": "ipython3",
   "version": "3.9.12"
  }
 },
 "nbformat": 4,
 "nbformat_minor": 5
}
