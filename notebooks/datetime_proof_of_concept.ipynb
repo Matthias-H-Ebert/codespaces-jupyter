{
 "cells": [
  {
   "cell_type": "markdown",
   "id": "a57f3442",
   "metadata": {},
   "source": [
    "# DateTime\n",
    "## Proof of Concept  - Matthias Ebert, DuP 2022"
   ]
  },
  {
   "cell_type": "code",
   "execution_count": 1,
   "id": "3cbc8c5b",
   "metadata": {},
   "outputs": [],
   "source": [
    "from datetime import datetime \n",
    "d = datetime.now()"
   ]
  },
  {
   "cell_type": "code",
   "execution_count": null,
   "id": "18542161",
   "metadata": {},
   "outputs": [],
   "source": [
    "print(d)"
   ]
  },
  {
   "cell_type": "code",
   "execution_count": null,
   "id": "1ddd67ee",
   "metadata": {},
   "outputs": [],
   "source": [
    "d.isoformat()"
   ]
  },
  {
   "cell_type": "code",
   "execution_count": null,
   "id": "3d40c6cb",
   "metadata": {},
   "outputs": [],
   "source": [
    "d.year"
   ]
  },
  {
   "cell_type": "code",
   "execution_count": null,
   "id": "0f513b12",
   "metadata": {},
   "outputs": [],
   "source": [
    "d.month"
   ]
  },
  {
   "cell_type": "code",
   "execution_count": null,
   "id": "6677efb2",
   "metadata": {},
   "outputs": [],
   "source": [
    "d.strftime(\"%A, %d. %B %Y\")"
   ]
  },
  {
   "cell_type": "code",
   "execution_count": null,
   "id": "45c384b7",
   "metadata": {},
   "outputs": [],
   "source": [
    "import locale\n",
    "locale.setlocale(locale.LC_ALL, \"de\")\n",
    "d.strftime(\"%a, %d.%B %Y\") "
   ]
  },
  {
   "cell_type": "code",
   "execution_count": null,
   "id": "b39d4bac",
   "metadata": {},
   "outputs": [],
   "source": [
    "locale.setlocale(locale.LC_ALL, \"us\")\n",
    "d.strftime(\"%a, %B %d %Y\")"
   ]
  },
  {
   "cell_type": "code",
   "execution_count": null,
   "id": "fd712672",
   "metadata": {},
   "outputs": [],
   "source": [
    "locale.setlocale(locale.LC_ALL, \"de\")\n",
    "s = \"1.Januar 1970 00:00:00\"\n",
    "d = d.strptime(s,\"%d.%B %Y %H:%M:%S\")\n",
    "d.isoformat()"
   ]
  }
 ],
 "metadata": {
  "kernelspec": {
   "display_name": "Python 3 (ipykernel)",
   "language": "python",
   "name": "python3"
  },
  "language_info": {
   "codemirror_mode": {
    "name": "ipython",
    "version": 3
   },
   "file_extension": ".py",
   "mimetype": "text/x-python",
   "name": "python",
   "nbconvert_exporter": "python",
   "pygments_lexer": "ipython3",
   "version": "3.9.12"
  }
 },
 "nbformat": 4,
 "nbformat_minor": 5
}
