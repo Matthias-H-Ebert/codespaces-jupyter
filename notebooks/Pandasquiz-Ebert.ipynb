{
 "cells": [
  {
   "cell_type": "markdown",
   "id": "01a12090",
   "metadata": {},
   "source": [
    "# Series to Frame - Aufgabe\n",
    "## Lösungsvorschlag\n"
   ]
  },
  {
   "cell_type": "markdown",
   "id": "28670e79",
   "metadata": {},
   "source": [
    "# 1. Schreibe Python-Code, der diese beiden Series erzeugt"
   ]
  },
  {
   "cell_type": "code",
   "execution_count": null,
   "id": "ae192af6",
   "metadata": {},
   "outputs": [],
   "source": [
    "import pandas as pd"
   ]
  },
  {
   "cell_type": "code",
   "execution_count": null,
   "id": "b3968da4",
   "metadata": {},
   "outputs": [],
   "source": [
    "ser_freunde = pd.Series({\"A\":\"Anna\", \"B\":\"Hans\",\"C\":\"Susi\", \"D\":\"Willy\", \"E\":\"Sepp\"}, name=\"Freunde\");\n",
    "print(ser_freunde)\n",
    "type(ser_freunde)"
   ]
  },
  {
   "cell_type": "code",
   "execution_count": null,
   "id": "86949dc9",
   "metadata": {},
   "outputs": [],
   "source": [
    "d_schulden = {\"A\":10, \"C\":200, \"E\":3000}\n",
    "d_schulden"
   ]
  },
  {
   "cell_type": "code",
   "execution_count": null,
   "id": "3f6304cd",
   "metadata": {},
   "outputs": [],
   "source": [
    "ser_schulden = pd.Series(d_schulden);\n",
    "print(ser_schulden)\n",
    "type(ser_schulden)"
   ]
  },
  {
   "cell_type": "markdown",
   "id": "0def81ad",
   "metadata": {},
   "source": [
    "# 2. Schreibe Python-Code, der beide Series in einem DataFrame vereinigt"
   ]
  },
  {
   "cell_type": "code",
   "execution_count": null,
   "id": "feabdced",
   "metadata": {},
   "outputs": [],
   "source": [
    "df_freunde = ser_freunde.to_frame()\n",
    "# df_freunde = df_freunde.rename(columns = {0:\"Freunde\"})\n",
    "print(df_freunde)\n",
    "type(df_freunde)"
   ]
  },
  {
   "cell_type": "code",
   "execution_count": null,
   "id": "85866c35",
   "metadata": {},
   "outputs": [],
   "source": [
    "df_schulden = ser_schulden.to_frame()\n",
    "df_schulden.rename(columns = {0:\"Betrag\"}, inplace=True)\n",
    "print(df_schulden)\n",
    "type(df_schulden)"
   ]
  },
  {
   "cell_type": "code",
   "execution_count": null,
   "id": "10241d4c",
   "metadata": {},
   "outputs": [],
   "source": [
    "df = pd.concat([ser_freunde, ser_schulden], axis=1)"
   ]
  },
  {
   "cell_type": "markdown",
   "id": "9f09434f",
   "metadata": {},
   "source": [
    "# 3. Wie sieht der DataFrame jetzt aus?"
   ]
  },
  {
   "cell_type": "code",
   "execution_count": null,
   "id": "38e74d74",
   "metadata": {},
   "outputs": [],
   "source": [
    "df"
   ]
  },
  {
   "cell_type": "code",
   "execution_count": null,
   "id": "2bb9de66",
   "metadata": {},
   "outputs": [],
   "source": [
    "df[df[\"Betrag\"]>0]"
   ]
  },
  {
   "cell_type": "markdown",
   "id": "a6454d74",
   "metadata": {},
   "source": [
    "# 4. Schreibe Python-Code, der nur die Zeilen B,C,D ausgibt"
   ]
  },
  {
   "cell_type": "code",
   "execution_count": null,
   "id": "bb060afb",
   "metadata": {},
   "outputs": [],
   "source": [
    "df.loc[['B','C','D']]"
   ]
  },
  {
   "cell_type": "code",
   "execution_count": null,
   "id": "4b318143",
   "metadata": {},
   "outputs": [],
   "source": [
    "df.loc['B':'D']"
   ]
  },
  {
   "cell_type": "code",
   "execution_count": null,
   "id": "5e818fff",
   "metadata": {},
   "outputs": [],
   "source": [
    "df.iloc[[1,2,3]]"
   ]
  },
  {
   "cell_type": "code",
   "execution_count": null,
   "id": "1213f3ee",
   "metadata": {},
   "outputs": [],
   "source": [
    "df.iloc[1:4]"
   ]
  },
  {
   "cell_type": "code",
   "execution_count": null,
   "id": "9eb4eb05",
   "metadata": {},
   "outputs": [],
   "source": [
    "df.iloc[range(1,4)]"
   ]
  },
  {
   "cell_type": "markdown",
   "id": "0b4d5a4b",
   "metadata": {},
   "source": [
    "# 5.  Schreibe Python-Code, der nur die Vornamen der Personen ausgibt, die Schulden haben"
   ]
  },
  {
   "cell_type": "code",
   "execution_count": null,
   "id": "35d3cdb0",
   "metadata": {},
   "outputs": [],
   "source": [
    "df[df[\"Betrag\"].notnull()]"
   ]
  },
  {
   "cell_type": "code",
   "execution_count": null,
   "id": "be53da80",
   "metadata": {},
   "outputs": [],
   "source": [
    "df[df[\"Betrag\"].notnull()][\"Freunde\"]"
   ]
  },
  {
   "cell_type": "markdown",
   "id": "443328e3",
   "metadata": {},
   "source": [
    "# Man kann die Schritte einzeln gehen oder in einer Zeile zusammenfassen"
   ]
  },
  {
   "cell_type": "code",
   "execution_count": null,
   "id": "687bb298",
   "metadata": {},
   "outputs": [],
   "source": [
    "# Bedingung\n",
    "df1 = df[df[\"Betrag\"].notnull()]\n",
    "df1"
   ]
  },
  {
   "cell_type": "code",
   "execution_count": null,
   "id": "118a151c",
   "metadata": {},
   "outputs": [],
   "source": [
    "# Spaltenauwwahl\n",
    "df2 = df1[\"Freunde\"]\n",
    "df2"
   ]
  },
  {
   "cell_type": "code",
   "execution_count": null,
   "id": "64c44318",
   "metadata": {},
   "outputs": [],
   "source": [
    "# Zeilenauswahl\n",
    "df3 = df2.loc[\"A\"]\n",
    "df3"
   ]
  },
  {
   "cell_type": "code",
   "execution_count": null,
   "id": "fbcb0bf2",
   "metadata": {},
   "outputs": [],
   "source": [
    "# Das Gleiche in einer Zeile Code\n",
    "df[df[\"Betrag\"].notnull()][\"Freunde\"].loc[\"A\"]"
   ]
  },
  {
   "cell_type": "markdown",
   "id": "f32fc65d",
   "metadata": {},
   "source": [
    "# Viel Erfolg"
   ]
  }
 ],
 "metadata": {
  "kernelspec": {
   "display_name": "Python 3 (ipykernel)",
   "language": "python",
   "name": "python3"
  },
  "language_info": {
   "codemirror_mode": {
    "name": "ipython",
    "version": 3
   },
   "file_extension": ".py",
   "mimetype": "text/x-python",
   "name": "python",
   "nbconvert_exporter": "python",
   "pygments_lexer": "ipython3",
   "version": "3.9.12"
  }
 },
 "nbformat": 4,
 "nbformat_minor": 5
}
