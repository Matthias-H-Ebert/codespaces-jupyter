{
 "cells": [
  {
   "cell_type": "markdown",
   "id": "39717795",
   "metadata": {},
   "source": [
    "# Löse die Pandas-Aufgabe in Jupyter Notebook"
   ]
  },
  {
   "cell_type": "code",
   "execution_count": 3,
   "id": "8bf3ce0c",
   "metadata": {},
   "outputs": [],
   "source": [
    "import pandas as pd\n",
    "import numpy as np"
   ]
  },
  {
   "cell_type": "markdown",
   "id": "46a7399a",
   "metadata": {},
   "source": [
    "Ein Dataframe ist wie eine Tabelle und besteht aus Dateninhalt **data**, Primary-Key **index** und Spaltenattribute **columns**"
   ]
  },
  {
   "cell_type": "markdown",
   "id": "15eeefd7",
   "metadata": {},
   "source": [
    "# \"CREATE DataFrame\": Erst Zeilen (= Datensätze), dann Spalten (= Werte)"
   ]
  },
  {
   "cell_type": "code",
   "execution_count": 9,
   "id": "90a40352",
   "metadata": {},
   "outputs": [
    {
     "data": {
      "text/html": [
       "<div>\n",
       "<style scoped>\n",
       "    .dataframe tbody tr th:only-of-type {\n",
       "        vertical-align: middle;\n",
       "    }\n",
       "\n",
       "    .dataframe tbody tr th {\n",
       "        vertical-align: top;\n",
       "    }\n",
       "\n",
       "    .dataframe thead th {\n",
       "        text-align: right;\n",
       "    }\n",
       "</style>\n",
       "<table border=\"1\" class=\"dataframe\">\n",
       "  <thead>\n",
       "    <tr style=\"text-align: right;\">\n",
       "      <th></th>\n",
       "      <th>0</th>\n",
       "      <th>1</th>\n",
       "      <th>2</th>\n",
       "      <th>3</th>\n",
       "    </tr>\n",
       "  </thead>\n",
       "  <tbody>\n",
       "    <tr>\n",
       "      <th>0</th>\n",
       "      <td>Erlangen</td>\n",
       "      <td>Mittelfranken</td>\n",
       "      <td>Regnitz</td>\n",
       "      <td>0.5</td>\n",
       "    </tr>\n",
       "    <tr>\n",
       "      <th>1</th>\n",
       "      <td>Fürth</td>\n",
       "      <td>Mittelfranken</td>\n",
       "      <td>Regnitz</td>\n",
       "      <td>0.6</td>\n",
       "    </tr>\n",
       "    <tr>\n",
       "      <th>2</th>\n",
       "      <td>Nürnberg</td>\n",
       "      <td>Mittelfranken</td>\n",
       "      <td>Pegnitz</td>\n",
       "      <td>0.5</td>\n",
       "    </tr>\n",
       "    <tr>\n",
       "      <th>3</th>\n",
       "      <td>Forchheim</td>\n",
       "      <td>Oberfranken</td>\n",
       "      <td>Regnitz</td>\n",
       "      <td>0.1</td>\n",
       "    </tr>\n",
       "    <tr>\n",
       "      <th>4</th>\n",
       "      <td>Bamberg</td>\n",
       "      <td>Oberfranken</td>\n",
       "      <td>Regnitz</td>\n",
       "      <td>0.5</td>\n",
       "    </tr>\n",
       "  </tbody>\n",
       "</table>\n",
       "</div>"
      ],
      "text/plain": [
       "           0              1        2    3\n",
       "0   Erlangen  Mittelfranken  Regnitz  0.5\n",
       "1      Fürth  Mittelfranken  Regnitz  0.6\n",
       "2   Nürnberg  Mittelfranken  Pegnitz  0.5\n",
       "3  Forchheim    Oberfranken  Regnitz  0.1\n",
       "4    Bamberg    Oberfranken  Regnitz  0.5"
      ]
     },
     "execution_count": 9,
     "metadata": {},
     "output_type": "execute_result"
    }
   ],
   "source": [
    "df = pd.DataFrame(\n",
    "    data = [\n",
    "                (\"Erlangen\", \"Mittelfranken\",\"Regnitz\",0.5),\n",
    "                (\"Fürth\",\"Mittelfranken\",\"Regnitz\", 0.6),\n",
    "                (\"Nürnberg\", \"Mittelfranken\",\"Pegnitz\",0.5),\n",
    "                (\"Forchheim\",\"Oberfranken\",\"Regnitz\", 0.1),\n",
    "                (\"Bamberg\", \"Oberfranken\",\"Regnitz\",0.5)\n",
    "    ]\n",
    "#   , index=[\"A\",\"B\",\"C\",\"D\",\"E\"]\n",
    "#   , columns=['Stadt','Land','Fluss', 'Temperatur']\n",
    ")\n",
    "df"
   ]
  },
  {
   "cell_type": "code",
   "execution_count": 10,
   "id": "18b52227",
   "metadata": {},
   "outputs": [
    {
     "data": {
      "text/html": [
       "<div>\n",
       "<style scoped>\n",
       "    .dataframe tbody tr th:only-of-type {\n",
       "        vertical-align: middle;\n",
       "    }\n",
       "\n",
       "    .dataframe tbody tr th {\n",
       "        vertical-align: top;\n",
       "    }\n",
       "\n",
       "    .dataframe thead th {\n",
       "        text-align: right;\n",
       "    }\n",
       "</style>\n",
       "<table border=\"1\" class=\"dataframe\">\n",
       "  <thead>\n",
       "    <tr style=\"text-align: right;\">\n",
       "      <th></th>\n",
       "      <th>Stadt</th>\n",
       "      <th>Land</th>\n",
       "      <th>Fluss</th>\n",
       "      <th>Temperatur</th>\n",
       "    </tr>\n",
       "  </thead>\n",
       "  <tbody>\n",
       "    <tr>\n",
       "      <th>A</th>\n",
       "      <td>Erlangen</td>\n",
       "      <td>Mittelfranken</td>\n",
       "      <td>Regnitz</td>\n",
       "      <td>0.5</td>\n",
       "    </tr>\n",
       "    <tr>\n",
       "      <th>B</th>\n",
       "      <td>Fürth</td>\n",
       "      <td>Mittelfranken</td>\n",
       "      <td>Regnitz</td>\n",
       "      <td>0.6</td>\n",
       "    </tr>\n",
       "    <tr>\n",
       "      <th>C</th>\n",
       "      <td>Nürnberg</td>\n",
       "      <td>Mittelfranken</td>\n",
       "      <td>Pegnitz</td>\n",
       "      <td>0.5</td>\n",
       "    </tr>\n",
       "    <tr>\n",
       "      <th>D</th>\n",
       "      <td>Forchheim</td>\n",
       "      <td>Oberfranken</td>\n",
       "      <td>Regnitz</td>\n",
       "      <td>0.1</td>\n",
       "    </tr>\n",
       "    <tr>\n",
       "      <th>E</th>\n",
       "      <td>Bamberg</td>\n",
       "      <td>Oberfranken</td>\n",
       "      <td>Regnitz</td>\n",
       "      <td>0.5</td>\n",
       "    </tr>\n",
       "  </tbody>\n",
       "</table>\n",
       "</div>"
      ],
      "text/plain": [
       "       Stadt           Land    Fluss  Temperatur\n",
       "A   Erlangen  Mittelfranken  Regnitz         0.5\n",
       "B      Fürth  Mittelfranken  Regnitz         0.6\n",
       "C   Nürnberg  Mittelfranken  Pegnitz         0.5\n",
       "D  Forchheim    Oberfranken  Regnitz         0.1\n",
       "E    Bamberg    Oberfranken  Regnitz         0.5"
      ]
     },
     "execution_count": 10,
     "metadata": {},
     "output_type": "execute_result"
    }
   ],
   "source": [
    "df.columns = ['Stadt','Land','Fluss', 'Temperatur'];\n",
    "df.index = [\"A\",\"B\",\"C\",\"D\",\"E\"]\n",
    "df"
   ]
  },
  {
   "cell_type": "markdown",
   "id": "02e66256",
   "metadata": {},
   "source": [
    "## SELECT Stadt \n",
    "## FROM DataFrame\""
   ]
  },
  {
   "cell_type": "code",
   "execution_count": 12,
   "id": "6257d42b",
   "metadata": {},
   "outputs": [
    {
     "name": "stdout",
     "output_type": "stream",
     "text": [
      "       Stadt           Land\n",
      "A   Erlangen  Mittelfranken\n",
      "B      Fürth  Mittelfranken\n",
      "C   Nürnberg  Mittelfranken\n",
      "D  Forchheim    Oberfranken\n",
      "E    Bamberg    Oberfranken\n"
     ]
    },
    {
     "data": {
      "text/plain": [
       "pandas.core.frame.DataFrame"
      ]
     },
     "execution_count": 12,
     "metadata": {},
     "output_type": "execute_result"
    }
   ],
   "source": [
    "print(df[[\"Stadt\",\"Land\"]])\n",
    "type(df[[\"Stadt\"]])"
   ]
  },
  {
   "cell_type": "code",
   "execution_count": null,
   "id": "9dcdd49e",
   "metadata": {},
   "outputs": [],
   "source": [
    "print(df.Stadt)\n",
    "type(df.Stadt)"
   ]
  },
  {
   "cell_type": "markdown",
   "id": "8b841974",
   "metadata": {},
   "source": [
    "#  loc[Erst Zeilenwhere, dann Spaltenselect]"
   ]
  },
  {
   "cell_type": "code",
   "execution_count": 13,
   "id": "c7086ab1",
   "metadata": {},
   "outputs": [
    {
     "data": {
      "text/html": [
       "<div>\n",
       "<style scoped>\n",
       "    .dataframe tbody tr th:only-of-type {\n",
       "        vertical-align: middle;\n",
       "    }\n",
       "\n",
       "    .dataframe tbody tr th {\n",
       "        vertical-align: top;\n",
       "    }\n",
       "\n",
       "    .dataframe thead th {\n",
       "        text-align: right;\n",
       "    }\n",
       "</style>\n",
       "<table border=\"1\" class=\"dataframe\">\n",
       "  <thead>\n",
       "    <tr style=\"text-align: right;\">\n",
       "      <th></th>\n",
       "      <th>Stadt</th>\n",
       "      <th>Land</th>\n",
       "      <th>Fluss</th>\n",
       "      <th>Temperatur</th>\n",
       "    </tr>\n",
       "  </thead>\n",
       "  <tbody>\n",
       "    <tr>\n",
       "      <th>A</th>\n",
       "      <td>Erlangen</td>\n",
       "      <td>Mittelfranken</td>\n",
       "      <td>Regnitz</td>\n",
       "      <td>0.5</td>\n",
       "    </tr>\n",
       "    <tr>\n",
       "      <th>B</th>\n",
       "      <td>Fürth</td>\n",
       "      <td>Mittelfranken</td>\n",
       "      <td>Regnitz</td>\n",
       "      <td>0.6</td>\n",
       "    </tr>\n",
       "  </tbody>\n",
       "</table>\n",
       "</div>"
      ],
      "text/plain": [
       "      Stadt           Land    Fluss  Temperatur\n",
       "A  Erlangen  Mittelfranken  Regnitz         0.5\n",
       "B     Fürth  Mittelfranken  Regnitz         0.6"
      ]
     },
     "execution_count": 13,
     "metadata": {},
     "output_type": "execute_result"
    }
   ],
   "source": [
    "df.loc[[\"A\",\"B\"]]"
   ]
  },
  {
   "cell_type": "code",
   "execution_count": 14,
   "id": "976b87fe",
   "metadata": {},
   "outputs": [
    {
     "data": {
      "text/plain": [
       "array([0, 1, 2, 3])"
      ]
     },
     "execution_count": 14,
     "metadata": {},
     "output_type": "execute_result"
    }
   ],
   "source": [
    "np.arange(0,4)"
   ]
  },
  {
   "cell_type": "code",
   "execution_count": 6,
   "id": "3f6790bf",
   "metadata": {},
   "outputs": [
    {
     "data": {
      "text/html": [
       "<div>\n",
       "<style scoped>\n",
       "    .dataframe tbody tr th:only-of-type {\n",
       "        vertical-align: middle;\n",
       "    }\n",
       "\n",
       "    .dataframe tbody tr th {\n",
       "        vertical-align: top;\n",
       "    }\n",
       "\n",
       "    .dataframe thead th {\n",
       "        text-align: right;\n",
       "    }\n",
       "</style>\n",
       "<table border=\"1\" class=\"dataframe\">\n",
       "  <thead>\n",
       "    <tr style=\"text-align: right;\">\n",
       "      <th></th>\n",
       "      <th>Stadt</th>\n",
       "      <th>Land</th>\n",
       "      <th>Fluss</th>\n",
       "      <th>Temperatur</th>\n",
       "    </tr>\n",
       "  </thead>\n",
       "  <tbody>\n",
       "    <tr>\n",
       "      <th>A</th>\n",
       "      <td>Erlangen</td>\n",
       "      <td>Mittelfranken</td>\n",
       "      <td>Regnitz</td>\n",
       "      <td>0.5</td>\n",
       "    </tr>\n",
       "    <tr>\n",
       "      <th>B</th>\n",
       "      <td>Fürth</td>\n",
       "      <td>Mittelfranken</td>\n",
       "      <td>Regnitz</td>\n",
       "      <td>0.6</td>\n",
       "    </tr>\n",
       "    <tr>\n",
       "      <th>C</th>\n",
       "      <td>Nürnberg</td>\n",
       "      <td>Mittelfranken</td>\n",
       "      <td>Pegnitz</td>\n",
       "      <td>0.5</td>\n",
       "    </tr>\n",
       "  </tbody>\n",
       "</table>\n",
       "</div>"
      ],
      "text/plain": [
       "      Stadt           Land    Fluss  Temperatur\n",
       "A  Erlangen  Mittelfranken  Regnitz         0.5\n",
       "B     Fürth  Mittelfranken  Regnitz         0.6\n",
       "C  Nürnberg  Mittelfranken  Pegnitz         0.5"
      ]
     },
     "execution_count": 6,
     "metadata": {},
     "output_type": "execute_result"
    }
   ],
   "source": [
    "df.iloc[range(0,3),range(0,4)]  "
   ]
  },
  {
   "cell_type": "markdown",
   "id": "e2fcbb8c",
   "metadata": {},
   "source": [
    "# Löse die Aufgaben der Schulaufgabe jetzt \n",
    "hier unten in diesem Jupyter Notebook ;)"
   ]
  },
  {
   "cell_type": "code",
   "execution_count": null,
   "id": "7b0a96b8",
   "metadata": {},
   "outputs": [],
   "source": []
  }
 ],
 "metadata": {
  "kernelspec": {
   "display_name": "Python 3 (ipykernel)",
   "language": "python",
   "name": "python3"
  },
  "language_info": {
   "codemirror_mode": {
    "name": "ipython",
    "version": 3
   },
   "file_extension": ".py",
   "mimetype": "text/x-python",
   "name": "python",
   "nbconvert_exporter": "python",
   "pygments_lexer": "ipython3",
   "version": "3.9.12"
  }
 },
 "nbformat": 4,
 "nbformat_minor": 5
}
