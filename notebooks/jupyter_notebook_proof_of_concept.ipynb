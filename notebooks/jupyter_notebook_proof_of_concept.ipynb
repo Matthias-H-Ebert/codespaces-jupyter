{
 "cells": [
  {
   "cell_type": "markdown",
   "id": "89908dcf",
   "metadata": {},
   "source": [
    "# Jupyter Notebooks sind *Julia/Python/R*-Notizbücher\n",
    "\n",
    "## Proof of Concept - Matthias Ebert, DUP 2022"
   ]
  },
  {
   "cell_type": "markdown",
   "id": "9591fdfc",
   "metadata": {},
   "source": [
    "Aufruf in anaconda: "
   ]
  },
  {
   "cell_type": "raw",
   "id": "2c9adc6d",
   "metadata": {},
   "source": [
    "(base) c:/Users/Ebm>jupyter notebook "
   ]
  },
  {
   "cell_type": "markdown",
   "id": "2fd6537f",
   "metadata": {},
   "source": [
    "Dies startet einen jupyter-http-Server im Hintergrund, der auf TCP-Port 8889 hört.\n",
    "\n",
    "Dazu wird ein Browser gestartet und [http://localhost:8889](http://localhost:8889) aufgerufen"
   ]
  },
  {
   "cell_type": "markdown",
   "id": "de9901d5",
   "metadata": {},
   "source": [
    "Hier kannst du mit **NEW** ein neues Verzeichnis '_MyNotebooks' anlegen bzw. reingehen und dort ein neues Notizbuch anlegen\n",
    "\n",
    "Die Datei-Endung heißt *.ipynb\n",
    "\n",
    "Es kombiniert \n",
    "- **Python-Code**\n",
    "\n",
    "mit\n",
    "- **Markdown-Text**"
   ]
  },
  {
   "cell_type": "markdown",
   "id": "010f507c",
   "metadata": {},
   "source": [
    "## Menupunkte\n",
    "nur die wichtigsten\n",
    "\n",
    "* File: New, Open, Save as, Download as\n",
    "* Edit: Cut, Copy, Delete, Move up, Move Down \n",
    "* View: Toggle Headers, Toggle Toolbar, Toggle Line Numbers\n",
    "* Insert: Cell above, Cell below\n",
    "* Cell: Run, Cell Type (Code, Markdown, Raw)\n",
    "* Kernel: Restart & Clear Output\n",
    "* Widgets: State(JSON), Widget(JS if trusted)\n",
    "* Help: User Interface Tour, Keyboard Shortcuts, Python-Reference"
   ]
  },
  {
   "cell_type": "markdown",
   "id": "8af885ce",
   "metadata": {},
   "source": [
    "# Starte die User Inteface Tour :)"
   ]
  },
  {
   "cell_type": "markdown",
   "id": "7760c554",
   "metadata": {},
   "source": [
    "[Interessanter Link](https://bmu-verlag.de/jupyter-notebook)"
   ]
  }
 ],
 "metadata": {
  "kernelspec": {
   "display_name": "Python 3 (ipykernel)",
   "language": "python",
   "name": "python3"
  },
  "language_info": {
   "codemirror_mode": {
    "name": "ipython",
    "version": 3
   },
   "file_extension": ".py",
   "mimetype": "text/x-python",
   "name": "python",
   "nbconvert_exporter": "python",
   "pygments_lexer": "ipython3",
   "version": "3.9.12"
  }
 },
 "nbformat": 4,
 "nbformat_minor": 5
}
